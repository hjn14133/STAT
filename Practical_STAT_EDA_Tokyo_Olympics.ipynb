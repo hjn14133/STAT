{
  "nbformat": 4,
  "nbformat_minor": 0,
  "metadata": {
    "colab": {
      "name": "Practical STAT - EDA - Tokyo Olympics.ipynb",
      "provenance": [],
      "authorship_tag": "ABX9TyPzdjczmX5ra+SypOEC9RH3",
      "include_colab_link": true
    },
    "kernelspec": {
      "name": "python3",
      "display_name": "Python 3"
    },
    "language_info": {
      "name": "python"
    }
  },
  "cells": [
    {
      "cell_type": "markdown",
      "metadata": {
        "id": "view-in-github",
        "colab_type": "text"
      },
      "source": [
        "<a href=\"https://colab.research.google.com/github/hjn14133/STAT/blob/main/Practical_STAT_EDA_Tokyo_Olympics.ipynb\" target=\"_parent\"><img src=\"https://colab.research.google.com/assets/colab-badge.svg\" alt=\"Open In Colab\"/></a>"
      ]
    },
    {
      "cell_type": "code",
      "metadata": {
        "id": "CIQnby62JH8g"
      },
      "source": [
        "import pandas as pd"
      ],
      "execution_count": 1,
      "outputs": []
    },
    {
      "cell_type": "code",
      "metadata": {
        "id": "Mc3_5zTVJwno"
      },
      "source": [
        "medal_count = pd.read_excel(\"Medals.xlsx\")"
      ],
      "execution_count": 2,
      "outputs": []
    },
    {
      "cell_type": "code",
      "metadata": {
        "colab": {
          "base_uri": "https://localhost:8080/",
          "height": 204
        },
        "id": "qNlQT7mkJy_W",
        "outputId": "b0bf5ae9-5766-45c2-b3fe-78df6cb39bda"
      },
      "source": [
        "medal_count.head()"
      ],
      "execution_count": 3,
      "outputs": [
        {
          "output_type": "execute_result",
          "data": {
            "text/html": [
              "<div>\n",
              "<style scoped>\n",
              "    .dataframe tbody tr th:only-of-type {\n",
              "        vertical-align: middle;\n",
              "    }\n",
              "\n",
              "    .dataframe tbody tr th {\n",
              "        vertical-align: top;\n",
              "    }\n",
              "\n",
              "    .dataframe thead th {\n",
              "        text-align: right;\n",
              "    }\n",
              "</style>\n",
              "<table border=\"1\" class=\"dataframe\">\n",
              "  <thead>\n",
              "    <tr style=\"text-align: right;\">\n",
              "      <th></th>\n",
              "      <th>Rank</th>\n",
              "      <th>Team/NOC</th>\n",
              "      <th>Gold</th>\n",
              "      <th>Silver</th>\n",
              "      <th>Bronze</th>\n",
              "      <th>Total</th>\n",
              "      <th>Rank by Total</th>\n",
              "    </tr>\n",
              "  </thead>\n",
              "  <tbody>\n",
              "    <tr>\n",
              "      <th>0</th>\n",
              "      <td>1</td>\n",
              "      <td>United States of America</td>\n",
              "      <td>39</td>\n",
              "      <td>41</td>\n",
              "      <td>33</td>\n",
              "      <td>113</td>\n",
              "      <td>1</td>\n",
              "    </tr>\n",
              "    <tr>\n",
              "      <th>1</th>\n",
              "      <td>2</td>\n",
              "      <td>People's Republic of China</td>\n",
              "      <td>38</td>\n",
              "      <td>32</td>\n",
              "      <td>18</td>\n",
              "      <td>88</td>\n",
              "      <td>2</td>\n",
              "    </tr>\n",
              "    <tr>\n",
              "      <th>2</th>\n",
              "      <td>3</td>\n",
              "      <td>Japan</td>\n",
              "      <td>27</td>\n",
              "      <td>14</td>\n",
              "      <td>17</td>\n",
              "      <td>58</td>\n",
              "      <td>5</td>\n",
              "    </tr>\n",
              "    <tr>\n",
              "      <th>3</th>\n",
              "      <td>4</td>\n",
              "      <td>Great Britain</td>\n",
              "      <td>22</td>\n",
              "      <td>21</td>\n",
              "      <td>22</td>\n",
              "      <td>65</td>\n",
              "      <td>4</td>\n",
              "    </tr>\n",
              "    <tr>\n",
              "      <th>4</th>\n",
              "      <td>5</td>\n",
              "      <td>ROC</td>\n",
              "      <td>20</td>\n",
              "      <td>28</td>\n",
              "      <td>23</td>\n",
              "      <td>71</td>\n",
              "      <td>3</td>\n",
              "    </tr>\n",
              "  </tbody>\n",
              "</table>\n",
              "</div>"
            ],
            "text/plain": [
              "   Rank                    Team/NOC  Gold  Silver  Bronze  Total  Rank by Total\n",
              "0     1    United States of America    39      41      33    113              1\n",
              "1     2  People's Republic of China    38      32      18     88              2\n",
              "2     3                       Japan    27      14      17     58              5\n",
              "3     4               Great Britain    22      21      22     65              4\n",
              "4     5                         ROC    20      28      23     71              3"
            ]
          },
          "metadata": {},
          "execution_count": 3
        }
      ]
    },
    {
      "cell_type": "markdown",
      "metadata": {
        "id": "NJDyblQ5O9ZW"
      },
      "source": [
        "**Estimates of Locations**"
      ]
    },
    {
      "cell_type": "code",
      "metadata": {
        "colab": {
          "base_uri": "https://localhost:8080/"
        },
        "id": "6H7-7RKHJ1xv",
        "outputId": "bcb34312-bf74-4bc5-ea32-5d71544af770"
      },
      "source": [
        "# Estimates of Location - Mean\n",
        "medal_count[\"Total\"].mean()"
      ],
      "execution_count": 6,
      "outputs": [
        {
          "output_type": "execute_result",
          "data": {
            "text/plain": [
              "11.612903225806452"
            ]
          },
          "metadata": {},
          "execution_count": 6
        }
      ]
    },
    {
      "cell_type": "code",
      "metadata": {
        "colab": {
          "base_uri": "https://localhost:8080/"
        },
        "id": "duR4OPvOKWtB",
        "outputId": "e05fbe79-4955-4864-b831-c2e2ffb2688a"
      },
      "source": [
        "# Weighted Mean\n",
        "\n",
        "import numpy as np\n",
        "np.average(medal_count[\"Total\"], weights = medal_count[\"Gold\"])"
      ],
      "execution_count": 10,
      "outputs": [
        {
          "output_type": "execute_result",
          "data": {
            "text/plain": [
              "46.832352941176474"
            ]
          },
          "metadata": {},
          "execution_count": 10
        }
      ]
    },
    {
      "cell_type": "code",
      "metadata": {
        "colab": {
          "base_uri": "https://localhost:8080/"
        },
        "id": "xL3x248SKoO_",
        "outputId": "fb5d8a97-ba22-4c98-a3d9-b79c4cf6ee1f"
      },
      "source": [
        "# Trimmed Mean - Outliers\n",
        "from scipy.stats import trim_mean\n",
        "trim_mean(medal_count[\"Total\"], 0.1)"
      ],
      "execution_count": 19,
      "outputs": [
        {
          "output_type": "execute_result",
          "data": {
            "text/plain": [
              "6.8933333333333335"
            ]
          },
          "metadata": {},
          "execution_count": 19
        }
      ]
    },
    {
      "cell_type": "code",
      "metadata": {
        "colab": {
          "base_uri": "https://localhost:8080/",
          "height": 316
        },
        "id": "EeZ3lL3zLs4V",
        "outputId": "a0caef6f-4cce-4e42-a985-99dd40441c96"
      },
      "source": [
        "import matplotlib.pyplot as plt\n",
        "\n",
        "plt.hist(medal_count[\"Total\"], bins = 5)"
      ],
      "execution_count": 20,
      "outputs": [
        {
          "output_type": "execute_result",
          "data": {
            "text/plain": [
              "(array([82.,  5.,  3.,  2.,  1.]),\n",
              " array([  1. ,  23.4,  45.8,  68.2,  90.6, 113. ]),\n",
              " <a list of 5 Patch objects>)"
            ]
          },
          "metadata": {},
          "execution_count": 20
        },
        {
          "output_type": "display_data",
          "data": {
            "image/png": "[encoded data removed]",
            "text/plain": [
              "<Figure size 432x288 with 1 Axes>"
            ]
          },
          "metadata": {
            "needs_background": "light"
          }
        }
      ]
    },
    {
      "cell_type": "code",
      "metadata": {
        "colab": {
          "base_uri": "https://localhost:8080/"
        },
        "id": "5qaKSwPrMOyv",
        "outputId": "e6e69a03-4820-48e0-e49d-7b74472cd077"
      },
      "source": [
        "# Median - Robuster than Mean - great with skewed data / Weighted Median \n",
        "\n",
        "medal_count[\"Total\"].median()"
      ],
      "execution_count": 21,
      "outputs": [
        {
          "output_type": "execute_result",
          "data": {
            "text/plain": [
              "4.0"
            ]
          },
          "metadata": {},
          "execution_count": 21
        }
      ]
    },
    {
      "cell_type": "code",
      "metadata": {
        "colab": {
          "base_uri": "https://localhost:8080/"
        },
        "id": "yZbgpvqhMwCR",
        "outputId": "7837b84b-9980-4523-e269-7028fad1d3b5"
      },
      "source": [
        "# Percentile\n",
        "\n",
        "q3 = np.percentile(medal_count[\"Total\"], 75)\n",
        "q3"
      ],
      "execution_count": 28,
      "outputs": [
        {
          "output_type": "execute_result",
          "data": {
            "text/plain": [
              "11.0"
            ]
          },
          "metadata": {},
          "execution_count": 28
        }
      ]
    },
    {
      "cell_type": "code",
      "metadata": {
        "colab": {
          "base_uri": "https://localhost:8080/",
          "height": 297
        },
        "id": "N9n2iRpHM1QP",
        "outputId": "d07e3fe3-4c4f-4643-c02a-75c65407d0b6"
      },
      "source": [
        "medal_count.describe()"
      ],
      "execution_count": 22,
      "outputs": [
        {
          "output_type": "execute_result",
          "data": {
            "text/html": [
              "<div>\n",
              "<style scoped>\n",
              "    .dataframe tbody tr th:only-of-type {\n",
              "        vertical-align: middle;\n",
              "    }\n",
              "\n",
              "    .dataframe tbody tr th {\n",
              "        vertical-align: top;\n",
              "    }\n",
              "\n",
              "    .dataframe thead th {\n",
              "        text-align: right;\n",
              "    }\n",
              "</style>\n",
              "<table border=\"1\" class=\"dataframe\">\n",
              "  <thead>\n",
              "    <tr style=\"text-align: right;\">\n",
              "      <th></th>\n",
              "      <th>Rank</th>\n",
              "      <th>Gold</th>\n",
              "      <th>Silver</th>\n",
              "      <th>Bronze</th>\n",
              "      <th>Total</th>\n",
              "      <th>Rank by Total</th>\n",
              "    </tr>\n",
              "  </thead>\n",
              "  <tbody>\n",
              "    <tr>\n",
              "      <th>count</th>\n",
              "      <td>93.000000</td>\n",
              "      <td>93.000000</td>\n",
              "      <td>93.000000</td>\n",
              "      <td>93.000000</td>\n",
              "      <td>93.000000</td>\n",
              "      <td>93.000000</td>\n",
              "    </tr>\n",
              "    <tr>\n",
              "      <th>mean</th>\n",
              "      <td>46.333333</td>\n",
              "      <td>3.655914</td>\n",
              "      <td>3.634409</td>\n",
              "      <td>4.322581</td>\n",
              "      <td>11.612903</td>\n",
              "      <td>43.494624</td>\n",
              "    </tr>\n",
              "    <tr>\n",
              "      <th>std</th>\n",
              "      <td>26.219116</td>\n",
              "      <td>7.022471</td>\n",
              "      <td>6.626339</td>\n",
              "      <td>6.210372</td>\n",
              "      <td>19.091332</td>\n",
              "      <td>24.171769</td>\n",
              "    </tr>\n",
              "    <tr>\n",
              "      <th>min</th>\n",
              "      <td>1.000000</td>\n",
              "      <td>0.000000</td>\n",
              "      <td>0.000000</td>\n",
              "      <td>0.000000</td>\n",
              "      <td>1.000000</td>\n",
              "      <td>1.000000</td>\n",
              "    </tr>\n",
              "    <tr>\n",
              "      <th>25%</th>\n",
              "      <td>24.000000</td>\n",
              "      <td>0.000000</td>\n",
              "      <td>0.000000</td>\n",
              "      <td>1.000000</td>\n",
              "      <td>2.000000</td>\n",
              "      <td>23.000000</td>\n",
              "    </tr>\n",
              "    <tr>\n",
              "      <th>50%</th>\n",
              "      <td>46.000000</td>\n",
              "      <td>1.000000</td>\n",
              "      <td>1.000000</td>\n",
              "      <td>2.000000</td>\n",
              "      <td>4.000000</td>\n",
              "      <td>47.000000</td>\n",
              "    </tr>\n",
              "    <tr>\n",
              "      <th>75%</th>\n",
              "      <td>70.000000</td>\n",
              "      <td>3.000000</td>\n",
              "      <td>4.000000</td>\n",
              "      <td>5.000000</td>\n",
              "      <td>11.000000</td>\n",
              "      <td>66.000000</td>\n",
              "    </tr>\n",
              "    <tr>\n",
              "      <th>max</th>\n",
              "      <td>86.000000</td>\n",
              "      <td>39.000000</td>\n",
              "      <td>41.000000</td>\n",
              "      <td>33.000000</td>\n",
              "      <td>113.000000</td>\n",
              "      <td>77.000000</td>\n",
              "    </tr>\n",
              "  </tbody>\n",
              "</table>\n",
              "</div>"
            ],
            "text/plain": [
              "            Rank       Gold     Silver     Bronze       Total  Rank by Total\n",
              "count  93.000000  93.000000  93.000000  93.000000   93.000000      93.000000\n",
              "mean   46.333333   3.655914   3.634409   4.322581   11.612903      43.494624\n",
              "std    26.219116   7.022471   6.626339   6.210372   19.091332      24.171769\n",
              "min     1.000000   0.000000   0.000000   0.000000    1.000000       1.000000\n",
              "25%    24.000000   0.000000   0.000000   1.000000    2.000000      23.000000\n",
              "50%    46.000000   1.000000   1.000000   2.000000    4.000000      47.000000\n",
              "75%    70.000000   3.000000   4.000000   5.000000   11.000000      66.000000\n",
              "max    86.000000  39.000000  41.000000  33.000000  113.000000      77.000000"
            ]
          },
          "metadata": {},
          "execution_count": 22
        }
      ]
    },
    {
      "cell_type": "markdown",
      "metadata": {
        "id": "DEYR4dkpPKUp"
      },
      "source": [
        "**Estimates of Variability (Dispersion Metrics)**"
      ]
    },
    {
      "cell_type": "code",
      "metadata": {
        "colab": {
          "base_uri": "https://localhost:8080/"
        },
        "id": "GkdQILgRNwx3",
        "outputId": "1b6775bf-1e7e-4793-9035-b5e7cfdcc428"
      },
      "source": [
        "# Estimates of Variability (Dispersion Metrics)\n",
        "# Variance\n",
        "from statistics import variance\n",
        "\n",
        "variance(medal_count[\"Gold\"])"
      ],
      "execution_count": 29,
      "outputs": [
        {
          "output_type": "execute_result",
          "data": {
            "text/plain": [
              "49.315100514259"
            ]
          },
          "metadata": {},
          "execution_count": 29
        }
      ]
    },
    {
      "cell_type": "code",
      "metadata": {
        "colab": {
          "base_uri": "https://localhost:8080/"
        },
        "id": "sq3ddTTSPJEm",
        "outputId": "2c762c1b-5a11-420c-ef78-1fc3a46d0dc0"
      },
      "source": [
        "# Standard Deviation\n",
        "from statistics import stdev\n",
        "\n",
        "stdev(medal_count[\"Gold\"])"
      ],
      "execution_count": 30,
      "outputs": [
        {
          "output_type": "execute_result",
          "data": {
            "text/plain": [
              "7.022471111671376"
            ]
          },
          "metadata": {},
          "execution_count": 30
        }
      ]
    },
    {
      "cell_type": "code",
      "metadata": {
        "colab": {
          "base_uri": "https://localhost:8080/"
        },
        "id": "tIEj7EluN1LS",
        "outputId": "5b98ebc3-c0de-49f3-e13d-156bf30221aa"
      },
      "source": [
        "# Median Absolute Deviation - robust against outliers\n",
        "from numpy import median, absolute\n",
        "\n",
        "median(absolute(medal_count[\"Gold\"] - median(medal_count[\"Gold\"])))"
      ],
      "execution_count": 32,
      "outputs": [
        {
          "output_type": "execute_result",
          "data": {
            "text/plain": [
              "1.0"
            ]
          },
          "metadata": {},
          "execution_count": 32
        }
      ]
    },
    {
      "cell_type": "code",
      "metadata": {
        "colab": {
          "base_uri": "https://localhost:8080/"
        },
        "id": "QLz1ukvUQr8_",
        "outputId": "70a936d4-b388-42ee-aa89-59bb454578b0"
      },
      "source": [
        "# Interquartile Range\n",
        "\n",
        "q3, q1 = np.percentile(medal_count[\"Gold\"], [75, 25])\n",
        "iqr = q3 - q1\n",
        "\n",
        "iqr"
      ],
      "execution_count": 34,
      "outputs": [
        {
          "output_type": "execute_result",
          "data": {
            "text/plain": [
              "3.0"
            ]
          },
          "metadata": {},
          "execution_count": 34
        }
      ]
    },
    {
      "cell_type": "markdown",
      "metadata": {
        "id": "rQ9OoWWFSNzE"
      },
      "source": [
        "**Exploring the Data Distribution**"
      ]
    },
    {
      "cell_type": "code",
      "metadata": {
        "id": "Fri2smpyQ9-d"
      },
      "source": [
        "# Percentiles (summarize the tails of a distribution as top 1%) \n",
        "# Boxplots - gives specific \n",
        "\n",
        "pd.Series.quantile([0.05, 0.25, 0.5, 0.75, 0.95])"
      ],
      "execution_count": null,
      "outputs": []
    },
    {
      "cell_type": "code",
      "metadata": {
        "colab": {
          "base_uri": "https://localhost:8080/",
          "height": 282
        },
        "id": "rOrXaMtmS0E3",
        "outputId": "a977dc0e-5e23-4869-d994-34993a705519"
      },
      "source": [
        "# Boxplots - lots of outliers\n",
        "medal_count.boxplot(column=\"Gold\")"
      ],
      "execution_count": 35,
      "outputs": [
        {
          "output_type": "execute_result",
          "data": {
            "text/plain": [
              "<matplotlib.axes._subplots.AxesSubplot at 0x7fe6f627bb90>"
            ]
          },
          "metadata": {},
          "execution_count": 35
        },
        {
          "output_type": "display_data",
          "data": {
            "image/png": "[encoded data removed]",
            "text/plain": [
              "<Figure size 432x288 with 1 Axes>"
            ]
          },
          "metadata": {
            "needs_background": "light"
          }
        }
      ]
    },
    {
      "cell_type": "code",
      "metadata": {
        "colab": {
          "base_uri": "https://localhost:8080/",
          "height": 282
        },
        "id": "4B6-5gNPTZPM",
        "outputId": "e75be5c5-ad69-4d1c-9957-c99ee1610c4e"
      },
      "source": [
        "# Boxplots - lots of outliers\n",
        "medal_count.boxplot(column=\"Total\")"
      ],
      "execution_count": 36,
      "outputs": [
        {
          "output_type": "execute_result",
          "data": {
            "text/plain": [
              "<matplotlib.axes._subplots.AxesSubplot at 0x7fe6f4166810>"
            ]
          },
          "metadata": {},
          "execution_count": 36
        },
        {
          "output_type": "display_data",
          "data": {
            "image/png": "[encoded data removed]",
            "text/plain": [
              "<Figure size 432x288 with 1 Axes>"
            ]
          },
          "metadata": {
            "needs_background": "light"
          }
        }
      ]
    },
    {
      "cell_type": "code",
      "metadata": {
        "colab": {
          "base_uri": "https://localhost:8080/",
          "height": 359
        },
        "id": "6D58IzhUTig5",
        "outputId": "8b3c4098-1b34-4011-d7e2-1e6212cb1343"
      },
      "source": [
        "# Frequency Table\n",
        "\n",
        "frequency_table = medal_count.copy()\n",
        "\n",
        "frequency_table[\"freq\"] = pd.cut(medal_count[\"Gold\"], 10)\n",
        "frequency_table.groupby(\"freq\")[\"Rank\"].count().reset_index()"
      ],
      "execution_count": 38,
      "outputs": [
        {
          "output_type": "execute_result",
          "data": {
            "text/html": [
              "<div>\n",
              "<style scoped>\n",
              "    .dataframe tbody tr th:only-of-type {\n",
              "        vertical-align: middle;\n",
              "    }\n",
              "\n",
              "    .dataframe tbody tr th {\n",
              "        vertical-align: top;\n",
              "    }\n",
              "\n",
              "    .dataframe thead th {\n",
              "        text-align: right;\n",
              "    }\n",
              "</style>\n",
              "<table border=\"1\" class=\"dataframe\">\n",
              "  <thead>\n",
              "    <tr style=\"text-align: right;\">\n",
              "      <th></th>\n",
              "      <th>freq</th>\n",
              "      <th>Rank</th>\n",
              "    </tr>\n",
              "  </thead>\n",
              "  <tbody>\n",
              "    <tr>\n",
              "      <th>0</th>\n",
              "      <td>(-0.039, 3.9]</td>\n",
              "      <td>72</td>\n",
              "    </tr>\n",
              "    <tr>\n",
              "      <th>1</th>\n",
              "      <td>(3.9, 7.8]</td>\n",
              "      <td>11</td>\n",
              "    </tr>\n",
              "    <tr>\n",
              "      <th>2</th>\n",
              "      <td>(7.8, 11.7]</td>\n",
              "      <td>4</td>\n",
              "    </tr>\n",
              "    <tr>\n",
              "      <th>3</th>\n",
              "      <td>(11.7, 15.6]</td>\n",
              "      <td>0</td>\n",
              "    </tr>\n",
              "    <tr>\n",
              "      <th>4</th>\n",
              "      <td>(15.6, 19.5]</td>\n",
              "      <td>1</td>\n",
              "    </tr>\n",
              "    <tr>\n",
              "      <th>5</th>\n",
              "      <td>(19.5, 23.4]</td>\n",
              "      <td>2</td>\n",
              "    </tr>\n",
              "    <tr>\n",
              "      <th>6</th>\n",
              "      <td>(23.4, 27.3]</td>\n",
              "      <td>1</td>\n",
              "    </tr>\n",
              "    <tr>\n",
              "      <th>7</th>\n",
              "      <td>(27.3, 31.2]</td>\n",
              "      <td>0</td>\n",
              "    </tr>\n",
              "    <tr>\n",
              "      <th>8</th>\n",
              "      <td>(31.2, 35.1]</td>\n",
              "      <td>0</td>\n",
              "    </tr>\n",
              "    <tr>\n",
              "      <th>9</th>\n",
              "      <td>(35.1, 39.0]</td>\n",
              "      <td>2</td>\n",
              "    </tr>\n",
              "  </tbody>\n",
              "</table>\n",
              "</div>"
            ],
            "text/plain": [
              "            freq  Rank\n",
              "0  (-0.039, 3.9]    72\n",
              "1     (3.9, 7.8]    11\n",
              "2    (7.8, 11.7]     4\n",
              "3   (11.7, 15.6]     0\n",
              "4   (15.6, 19.5]     1\n",
              "5   (19.5, 23.4]     2\n",
              "6   (23.4, 27.3]     1\n",
              "7   (27.3, 31.2]     0\n",
              "8   (31.2, 35.1]     0\n",
              "9   (35.1, 39.0]     2"
            ]
          },
          "metadata": {},
          "execution_count": 38
        }
      ]
    },
    {
      "cell_type": "code",
      "metadata": {
        "colab": {
          "base_uri": "https://localhost:8080/",
          "height": 384
        },
        "id": "SCcdCoe7UDUV",
        "outputId": "9b364933-f399-44b0-962b-7c9eeb0dd0ba"
      },
      "source": [
        "plt.hist(x = medal_count[\"Gold\"], bins = 'auto', alpha = 0.7, rwidth = 0.85)"
      ],
      "execution_count": 43,
      "outputs": [
        {
          "output_type": "execute_result",
          "data": {
            "text/plain": [
              "(array([50., 11., 11.,  5.,  2.,  4.,  0.,  4.,  0.,  0.,  0.,  0.,  0.,\n",
              "         1.,  0.,  1.,  1.,  0.,  0.,  0.,  1.,  0.,  0.,  0.,  0.,  0.,\n",
              "         0.,  0.,  0.,  2.]),\n",
              " array([ 0. ,  1.3,  2.6,  3.9,  5.2,  6.5,  7.8,  9.1, 10.4, 11.7, 13. ,\n",
              "        14.3, 15.6, 16.9, 18.2, 19.5, 20.8, 22.1, 23.4, 24.7, 26. , 27.3,\n",
              "        28.6, 29.9, 31.2, 32.5, 33.8, 35.1, 36.4, 37.7, 39. ]),\n",
              " <a list of 30 Patch objects>)"
            ]
          },
          "metadata": {},
          "execution_count": 43
        },
        {
          "output_type": "display_data",
          "data": {
            "image/png": "[encoded data removed]",
            "text/plain": [
              "<Figure size 432x288 with 1 Axes>"
            ]
          },
          "metadata": {
            "needs_background": "light"
          }
        }
      ]
    },
    {
      "cell_type": "code",
      "metadata": {
        "colab": {
          "base_uri": "https://localhost:8080/",
          "height": 282
        },
        "id": "kZq5JunLU_jT",
        "outputId": "5b7c0c0e-fa46-427f-c29c-eeadb6887b9c"
      },
      "source": [
        "# Density Plots and Estimates\n",
        "\n",
        "ax = medal_count[\"Gold\"].plot.hist(density = True,\n",
        "                                   xlim = [0, 12], \n",
        "                                   bins = range(1, 12))\n",
        "medal_count[\"Gold\"].plot.density(ax = ax)"
      ],
      "execution_count": 45,
      "outputs": [
        {
          "output_type": "execute_result",
          "data": {
            "text/plain": [
              "<matplotlib.axes._subplots.AxesSubplot at 0x7fe6f416a710>"
            ]
          },
          "metadata": {},
          "execution_count": 45
        },
        {
          "output_type": "display_data",
          "data": {
            "image/png": "[encoded data removed]",
            "text/plain": [
              "<Figure size 432x288 with 1 Axes>"
            ]
          },
          "metadata": {
            "needs_background": "light"
          }
        }
      ]
    },
    {
      "cell_type": "markdown",
      "metadata": {
        "id": "4LtE2C3oWsE6"
      },
      "source": [
        "**Exploring the Binary and Categorical Data**"
      ]
    },
    {
      "cell_type": "code",
      "metadata": {
        "colab": {
          "base_uri": "https://localhost:8080/",
          "height": 418
        },
        "id": "uutDi9p5WYCt",
        "outputId": "2907a4d6-367e-4ab9-8dd3-c4438feb96e2"
      },
      "source": [
        "# Bar Plots\n",
        "ax = medal_count.iloc[:10, :].plot. bar(x = \"Team/NOC\", y = \"Gold\")\n",
        "ax.set_ylabel(\"Gold Count\")\n",
        "ax.set_xlabel(\"Country\")"
      ],
      "execution_count": 49,
      "outputs": [
        {
          "output_type": "execute_result",
          "data": {
            "text/plain": [
              "Text(0.5, 0, 'Country')"
            ]
          },
          "metadata": {},
          "execution_count": 49
        },
        {
          "output_type": "display_data",
          "data": {
            "image/png": "[encoded data removed]",
            "text/plain": [
              "<Figure size 432x288 with 1 Axes>"
            ]
          },
          "metadata": {
            "needs_background": "light"
          }
        }
      ]
    },
    {
      "cell_type": "code",
      "metadata": {
        "colab": {
          "base_uri": "https://localhost:8080/",
          "height": 486
        },
        "id": "mLHtGH6vW0Yt",
        "outputId": "103ec586-4872-4695-d7d5-d2ca38b58d56"
      },
      "source": [
        "# Pie Chart (proportions) - NoT Generally Recommand\n",
        "\n",
        "plt.pie(medal_count.iloc[:7, :][\"Gold\"], labels = medal_count.iloc[:7, :]['Team/NOC'])\n"
      ],
      "execution_count": 58,
      "outputs": [
        {
          "output_type": "execute_result",
          "data": {
            "text/plain": [
              "([<matplotlib.patches.Wedge at 0x7fe6f1a0a990>,\n",
              "  <matplotlib.patches.Wedge at 0x7fe6f1a0a850>,\n",
              "  <matplotlib.patches.Wedge at 0x7fe6f1a0a550>,\n",
              "  <matplotlib.patches.Wedge at 0x7fe6f40ea4d0>,\n",
              "  <matplotlib.patches.Wedge at 0x7fe6f1a93910>,\n",
              "  <matplotlib.patches.Wedge at 0x7fe6f1a93690>,\n",
              "  <matplotlib.patches.Wedge at 0x7fe6f1a93e10>],\n",
              " [Text(0.835472805245981, 0.7155314051070094, 'United States of America'),\n",
              "  Text(-0.5614922419634689, 0.9458998161617527, \"People's Republic of China\"),\n",
              "  Text(-1.0884125938512774, -0.15924203448189894, 'Japan'),\n",
              "  Text(-0.5614922419634693, -0.9458998161617526, 'Great Britain'),\n",
              "  Text(0.24755427095562205, -1.0717821060885606, 'ROC'),\n",
              "  Text(0.8609034913566292, -0.6847227019531091, 'Australia'),\n",
              "  Text(1.081912579432137, -0.19865842661840447, 'Netherlands')])"
            ]
          },
          "metadata": {},
          "execution_count": 58
        },
        {
          "output_type": "display_data",
          "data": {
            "image/png": "[encoded data removed]",
            "text/plain": [
              "<Figure size 432x288 with 1 Axes>"
            ]
          },
          "metadata": {}
        }
      ]
    },
    {
      "cell_type": "code",
      "metadata": {
        "id": "6Qd64Ww4aJwH"
      },
      "source": [
        ""
      ],
      "execution_count": null,
      "outputs": []
    },
    {
      "cell_type": "markdown",
      "metadata": {
        "id": "y6_r_sbJaYKL"
      },
      "source": [
        "## Exploring Two or More Varialbes \n",
        "### Contingency Table: Tally counts betwen two or more variables\n",
        "### Hexagonal binning\n",
        "### Contour Plot\n",
        "### Violin Plot "
      ]
    },
    {
      "cell_type": "markdown",
      "metadata": {
        "id": "kk6o6UgPZoR8"
      },
      "source": [
        "## Correlation - sensitive to outliers"
      ]
    },
    {
      "cell_type": "code",
      "metadata": {
        "colab": {
          "base_uri": "https://localhost:8080/",
          "height": 235
        },
        "id": "gA_xFs2nZqmQ",
        "outputId": "f819ce8d-1183-4c82-c5a1-00aece7af236"
      },
      "source": [
        "## Correlation - sensitive to outliers\n",
        "#  Correlation Matrix\n",
        "medal_count.corr()"
      ],
      "execution_count": 59,
      "outputs": [
        {
          "output_type": "execute_result",
          "data": {
            "text/html": [
              "<div>\n",
              "<style scoped>\n",
              "    .dataframe tbody tr th:only-of-type {\n",
              "        vertical-align: middle;\n",
              "    }\n",
              "\n",
              "    .dataframe tbody tr th {\n",
              "        vertical-align: top;\n",
              "    }\n",
              "\n",
              "    .dataframe thead th {\n",
              "        text-align: right;\n",
              "    }\n",
              "</style>\n",
              "<table border=\"1\" class=\"dataframe\">\n",
              "  <thead>\n",
              "    <tr style=\"text-align: right;\">\n",
              "      <th></th>\n",
              "      <th>Rank</th>\n",
              "      <th>Gold</th>\n",
              "      <th>Silver</th>\n",
              "      <th>Bronze</th>\n",
              "      <th>Total</th>\n",
              "      <th>Rank by Total</th>\n",
              "    </tr>\n",
              "  </thead>\n",
              "  <tbody>\n",
              "    <tr>\n",
              "      <th>Rank</th>\n",
              "      <td>1.000000</td>\n",
              "      <td>-0.655477</td>\n",
              "      <td>-0.597835</td>\n",
              "      <td>-0.637166</td>\n",
              "      <td>-0.655877</td>\n",
              "      <td>0.873539</td>\n",
              "    </tr>\n",
              "    <tr>\n",
              "      <th>Gold</th>\n",
              "      <td>-0.655477</td>\n",
              "      <td>1.000000</td>\n",
              "      <td>0.929046</td>\n",
              "      <td>0.862425</td>\n",
              "      <td>0.970840</td>\n",
              "      <td>-0.626012</td>\n",
              "    </tr>\n",
              "    <tr>\n",
              "      <th>Silver</th>\n",
              "      <td>-0.597835</td>\n",
              "      <td>0.929046</td>\n",
              "      <td>1.000000</td>\n",
              "      <td>0.862646</td>\n",
              "      <td>0.969439</td>\n",
              "      <td>-0.632831</td>\n",
              "    </tr>\n",
              "    <tr>\n",
              "      <th>Bronze</th>\n",
              "      <td>-0.637166</td>\n",
              "      <td>0.862425</td>\n",
              "      <td>0.862646</td>\n",
              "      <td>1.000000</td>\n",
              "      <td>0.941941</td>\n",
              "      <td>-0.745573</td>\n",
              "    </tr>\n",
              "    <tr>\n",
              "      <th>Total</th>\n",
              "      <td>-0.655877</td>\n",
              "      <td>0.970840</td>\n",
              "      <td>0.969439</td>\n",
              "      <td>0.941941</td>\n",
              "      <td>1.000000</td>\n",
              "      <td>-0.692450</td>\n",
              "    </tr>\n",
              "    <tr>\n",
              "      <th>Rank by Total</th>\n",
              "      <td>0.873539</td>\n",
              "      <td>-0.626012</td>\n",
              "      <td>-0.632831</td>\n",
              "      <td>-0.745573</td>\n",
              "      <td>-0.692450</td>\n",
              "      <td>1.000000</td>\n",
              "    </tr>\n",
              "  </tbody>\n",
              "</table>\n",
              "</div>"
            ],
            "text/plain": [
              "                   Rank      Gold    Silver    Bronze     Total  Rank by Total\n",
              "Rank           1.000000 -0.655477 -0.597835 -0.637166 -0.655877       0.873539\n",
              "Gold          -0.655477  1.000000  0.929046  0.862425  0.970840      -0.626012\n",
              "Silver        -0.597835  0.929046  1.000000  0.862646  0.969439      -0.632831\n",
              "Bronze        -0.637166  0.862425  0.862646  1.000000  0.941941      -0.745573\n",
              "Total         -0.655877  0.970840  0.969439  0.941941  1.000000      -0.692450\n",
              "Rank by Total  0.873539 -0.626012 -0.632831 -0.745573 -0.692450       1.000000"
            ]
          },
          "metadata": {},
          "execution_count": 59
        }
      ]
    },
    {
      "cell_type": "code",
      "metadata": {
        "colab": {
          "base_uri": "https://localhost:8080/",
          "height": 282
        },
        "id": "6zQ3rqPzZvIj",
        "outputId": "dbfeac5d-a5cd-4f3e-c0df-66a3cb338666"
      },
      "source": [
        "plt.scatter(medal_count[\"Gold\"], medal_count[\"Silver\"])"
      ],
      "execution_count": 60,
      "outputs": [
        {
          "output_type": "execute_result",
          "data": {
            "text/plain": [
              "<matplotlib.collections.PathCollection at 0x7fe6f3e79ed0>"
            ]
          },
          "metadata": {},
          "execution_count": 60
        },
        {
          "output_type": "display_data",
          "data": {
            "image/png": "[encoded data removed]",
            "text/plain": [
              "<Figure size 432x288 with 1 Axes>"
            ]
          },
          "metadata": {
            "needs_background": "light"
          }
        }
      ]
    }
  ]
}