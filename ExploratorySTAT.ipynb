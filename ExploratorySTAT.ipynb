{
  "nbformat": 4,
  "nbformat_minor": 0,
  "metadata": {
    "colab": {
      "name": "Z_score_CI_Var_Subplot.ipynb",
      "provenance": [],
      "authorship_tag": "ABX9TyO5U5xUbnHxuRIhS4mA6Rpu",
      "include_colab_link": true
    },
    "kernelspec": {
      "name": "python3",
      "display_name": "Python 3"
    },
    "language_info": {
      "name": "python"
    }
  },
  "cells": [
    {
      "cell_type": "markdown",
      "metadata": {
        "id": "view-in-github",
        "colab_type": "text"
      },
      "source": [
        "<a href=\"https://colab.research.google.com/github/hjn14133/STAT/blob/main/ExploratorySTAT.ipynb\" target=\"_parent\"><img src=\"https://colab.research.google.com/assets/colab-badge.svg\" alt=\"Open In Colab\"/></a>"
      ]
    },
    {
      "cell_type": "code",
      "metadata": {
        "id": "ON3UM0Ew0lXy"
      },
      "source": [
        "import numpy as np\n",
        "import scipy.stats as st\n",
        "import pandas as pd\n"
      ],
      "execution_count": null,
      "outputs": []
    },
    {
      "cell_type": "code",
      "metadata": {
        "id": "TZVHhxhw2X5K"
      },
      "source": [
        "#data = pd.read_csv('firetowerFiber_USDA.csv')\n",
        "#data = pd.read_csv('FT_join_file.csv')\n",
        "data = pd.read_csv('FT_join_JH_cleaned.csv')"
      ],
      "execution_count": null,
      "outputs": []
    },
    {
      "cell_type": "code",
      "metadata": {
        "id": "8y2GoZKr2dpX",
        "colab": {
          "base_uri": "https://localhost:8080/"
        },
        "outputId": "d7de525b-791f-44c9-9dfa-737a09b2faca"
      },
      "source": [
        "\n",
        "variety = data['Variety_1']\n",
        "\n",
        "variety.unique()"
      ],
      "execution_count": null,
      "outputs": [
        {
          "output_type": "execute_result",
          "data": {
            "text/plain": [
              "array(['           dp 1646 b2xf', '            dg3799 b3xf',\n",
              "       '            dg3615 b3xf'], dtype=object)"
            ]
          },
          "metadata": {},
          "execution_count": 3
        }
      ]
    },
    {
      "cell_type": "code",
      "metadata": {
        "id": "fwtUNFV7eNW-",
        "colab": {
          "base_uri": "https://localhost:8080/"
        },
        "outputId": "baf3333a-cf29-45a5-929c-0d6d61dde2fb"
      },
      "source": [
        "var_1 = data[data['Variety_1'] =='           dp 1646 b2xf']\n",
        "var_2 = data[data['Variety_1'] =='            dg3799 b3xf']\n",
        "var_3 = data[data['Variety_1'] =='            dg3615 b3xf']\n",
        "\n",
        "feature1 = var_1['VRYIELDBAL']\n",
        "feature2 = var_2['VRYIELDBAL']\n",
        "feature3 = var_3['VRYIELDBAL']\n"
      ],
      "execution_count": null,
      "outputs": [
        {
          "output_type": "execute_result",
          "data": {
            "text/plain": [
              "count    6007.000000\n",
              "mean        2.507726\n",
              "std         1.046717\n",
              "min         0.032865\n",
              "25%         1.720016\n",
              "50%         2.416561\n",
              "75%         3.174464\n",
              "max         5.976549\n",
              "Name: VRYIELDBAL, dtype: float64"
            ]
          },
          "metadata": {},
          "execution_count": 5
        }
      ]
    },
    {
      "cell_type": "code",
      "metadata": {
        "colab": {
          "base_uri": "https://localhost:8080/"
        },
        "id": "5xawmOUXJZZY",
        "outputId": "9b2d3914-6a0f-436a-ee2d-9204d63e79fd"
      },
      "source": [
        "all_var = data['VRYIELDBAL']\n",
        "all_var.describe()"
      ],
      "execution_count": null,
      "outputs": [
        {
          "output_type": "execute_result",
          "data": {
            "text/plain": [
              "count    12695.000000\n",
              "mean         2.394684\n",
              "std          0.922856\n",
              "min          0.029062\n",
              "25%          1.721329\n",
              "50%          2.332268\n",
              "75%          2.965761\n",
              "max          5.976549\n",
              "Name: VRYIELDBAL, dtype: float64"
            ]
          },
          "metadata": {},
          "execution_count": 12
        }
      ]
    },
    {
      "cell_type": "code",
      "metadata": {
        "colab": {
          "base_uri": "https://localhost:8080/"
        },
        "id": "R2lidfV2JZh8",
        "outputId": "d8b1cb8f-f030-4e0a-d664-2e2200d412d7"
      },
      "source": [
        "feature1.describe()"
      ],
      "execution_count": null,
      "outputs": [
        {
          "output_type": "execute_result",
          "data": {
            "text/plain": [
              "count    6007.000000\n",
              "mean        2.507726\n",
              "std         1.046717\n",
              "min         0.032865\n",
              "25%         1.720016\n",
              "50%         2.416561\n",
              "75%         3.174464\n",
              "max         5.976549\n",
              "Name: VRYIELDBAL, dtype: float64"
            ]
          },
          "metadata": {},
          "execution_count": 13
        }
      ]
    },
    {
      "cell_type": "code",
      "metadata": {
        "colab": {
          "base_uri": "https://localhost:8080/"
        },
        "id": "j6xBLfxQJZqS",
        "outputId": "1718d699-27f4-4640-ce42-49071e3e601d"
      },
      "source": [
        "feature2.describe()"
      ],
      "execution_count": null,
      "outputs": [
        {
          "output_type": "execute_result",
          "data": {
            "text/plain": [
              "count    4460.000000\n",
              "mean        2.252476\n",
              "std         0.718732\n",
              "min         0.029062\n",
              "25%         1.721961\n",
              "50%         2.348390\n",
              "75%         2.729632\n",
              "max         5.909818\n",
              "Name: VRYIELDBAL, dtype: float64"
            ]
          },
          "metadata": {},
          "execution_count": 14
        }
      ]
    },
    {
      "cell_type": "code",
      "metadata": {
        "colab": {
          "base_uri": "https://localhost:8080/"
        },
        "id": "edTGILs5JZ42",
        "outputId": "f927c0c1-71c2-4816-84c3-dff5611bff4e"
      },
      "source": [
        "feature3.describe()"
      ],
      "execution_count": null,
      "outputs": [
        {
          "output_type": "execute_result",
          "data": {
            "text/plain": [
              "count    2228.000000\n",
              "mean        2.374579\n",
              "std         0.888858\n",
              "min         0.043978\n",
              "25%         1.722638\n",
              "50%         2.046458\n",
              "75%         3.257923\n",
              "max         4.373973\n",
              "Name: VRYIELDBAL, dtype: float64"
            ]
          },
          "metadata": {},
          "execution_count": 15
        }
      ]
    },
    {
      "cell_type": "code",
      "metadata": {
        "colab": {
          "base_uri": "https://localhost:8080/",
          "height": 333
        },
        "id": "ExWyG60B9Qah",
        "outputId": "b6918017-8c7c-408c-cbee-b0a78be40132"
      },
      "source": [
        "import matplotlib.pyplot as plt\n",
        "\n",
        "feature = [feature1, feature2, feature3]\n",
        "x = ['DP 1646', 'DG 3799', 'DG 3615']\n",
        "plt.boxplot(feature)\n",
        "plt.xticks([1, 2, 3], x)\n",
        "plt.xlabel('Variety')\n",
        "plt.ylabel('Cotton Yield (bale/ac)')\n",
        "plt.show()"
      ],
      "execution_count": null,
      "outputs": [
        {
          "output_type": "stream",
          "name": "stderr",
          "text": [
            "/usr/local/lib/python3.7/dist-packages/numpy/core/_asarray.py:83: VisibleDeprecationWarning: Creating an ndarray from ragged nested sequences (which is a list-or-tuple of lists-or-tuples-or ndarrays with different lengths or shapes) is deprecated. If you meant to do this, you must specify 'dtype=object' when creating the ndarray\n",
            "  return array(a, dtype, copy=False, order=order)\n"
          ]
        },
        {
          "output_type": "display_data",
          "data": {
            "image/png": "[encoded data removed]",
            "text/plain": [
              "<Figure size 432x288 with 1 Axes>"
            ]
          },
          "metadata": {
            "needs_background": "light"
          }
        }
      ]
    },
    {
      "cell_type": "code",
      "metadata": {
        "colab": {
          "base_uri": "https://localhost:8080/",
          "height": 333
        },
        "id": "lGOY5SWjBfL3",
        "outputId": "823e986e-5d7a-4fa7-d86a-4d8810a3a857"
      },
      "source": [
        "var_1 = data[data['Variety_1'] =='           dp 1646 b2xf']\n",
        "var_2 = data[data['Variety_1'] =='            dg3799 b3xf']\n",
        "var_3 = data[data['Variety_1'] =='            dg3615 b3xf']\n",
        "\n",
        "feature1 = var_1['Loan_Value']\n",
        "feature2 = var_2['Loan_Value']\n",
        "feature3 = var_3['Loan_Value']\n",
        "\n",
        "import matplotlib.pyplot as plt\n",
        "\n",
        "feature = [feature1, feature2, feature3]\n",
        "x = ['DP 1646', 'DG 3799', 'DG 3615']\n",
        "plt.boxplot(feature)\n",
        "plt.xticks([1, 2, 3], x)\n",
        "plt.xlabel('Variety')\n",
        "plt.ylabel('Loan Value ($/bale)')\n",
        "plt.show()"
      ],
      "execution_count": null,
      "outputs": [
        {
          "output_type": "stream",
          "name": "stderr",
          "text": [
            "/usr/local/lib/python3.7/dist-packages/numpy/core/_asarray.py:83: VisibleDeprecationWarning: Creating an ndarray from ragged nested sequences (which is a list-or-tuple of lists-or-tuples-or ndarrays with different lengths or shapes) is deprecated. If you meant to do this, you must specify 'dtype=object' when creating the ndarray\n",
            "  return array(a, dtype, copy=False, order=order)\n"
          ]
        },
        {
          "output_type": "display_data",
          "data": {
            "image/png": "[encoded data removed]",
            "text/plain": [
              "<Figure size 432x288 with 1 Axes>"
            ]
          },
          "metadata": {
            "needs_background": "light"
          }
        }
      ]
    },
    {
      "cell_type": "code",
      "metadata": {
        "colab": {
          "base_uri": "https://localhost:8080/"
        },
        "id": "Q0AN2ztoKhdV",
        "outputId": "87361875-7ce6-42a9-bdfa-7b2bb0b4254d"
      },
      "source": [
        "all_var = data['Loan_Value']\n",
        "all_var.describe()"
      ],
      "execution_count": null,
      "outputs": [
        {
          "output_type": "execute_result",
          "data": {
            "text/plain": [
              "count    12695.000000\n",
              "mean       275.703835\n",
              "std          6.582682\n",
              "min        262.970000\n",
              "25%        272.180000\n",
              "50%        276.380000\n",
              "75%        280.510000\n",
              "max        287.800000\n",
              "Name: Loan_Value, dtype: float64"
            ]
          },
          "metadata": {},
          "execution_count": 17
        }
      ]
    },
    {
      "cell_type": "code",
      "metadata": {
        "colab": {
          "base_uri": "https://localhost:8080/"
        },
        "id": "Ak-Tv7O9Khhx",
        "outputId": "494ce285-4bab-4d80-c03f-0fb6dc0314a3"
      },
      "source": [
        "feature1.describe()"
      ],
      "execution_count": null,
      "outputs": [
        {
          "output_type": "execute_result",
          "data": {
            "text/plain": [
              "count    6007.000000\n",
              "mean      274.848527\n",
              "std         7.490873\n",
              "min       262.970000\n",
              "25%       269.710000\n",
              "50%       274.350000\n",
              "75%       281.980000\n",
              "max       287.800000\n",
              "Name: Loan_Value, dtype: float64"
            ]
          },
          "metadata": {},
          "execution_count": 18
        }
      ]
    },
    {
      "cell_type": "code",
      "metadata": {
        "colab": {
          "base_uri": "https://localhost:8080/"
        },
        "id": "OM-ZCD1sKh_r",
        "outputId": "aa91363e-2d39-4fe7-bca6-544660627ba0"
      },
      "source": [
        "feature2.describe()"
      ],
      "execution_count": null,
      "outputs": [
        {
          "output_type": "execute_result",
          "data": {
            "text/plain": [
              "count    4460.000000\n",
              "mean      275.967816\n",
              "std         5.794134\n",
              "min       263.610000\n",
              "25%       272.690000\n",
              "50%       276.760000\n",
              "75%       280.310000\n",
              "max       284.820000\n",
              "Name: Loan_Value, dtype: float64"
            ]
          },
          "metadata": {},
          "execution_count": 19
        }
      ]
    },
    {
      "cell_type": "code",
      "metadata": {
        "colab": {
          "base_uri": "https://localhost:8080/"
        },
        "id": "M7VwvGU0KiI5",
        "outputId": "bda5cfb7-0120-4a32-84ef-2770606ee7df"
      },
      "source": [
        "feature3.describe()"
      ],
      "execution_count": null,
      "outputs": [
        {
          "output_type": "execute_result",
          "data": {
            "text/plain": [
              "count    2228.000000\n",
              "mean      277.481432\n",
              "std         4.813263\n",
              "min       269.300000\n",
              "25%       272.220000\n",
              "50%       278.380000\n",
              "75%       282.610000\n",
              "max       284.810000\n",
              "Name: Loan_Value, dtype: float64"
            ]
          },
          "metadata": {},
          "execution_count": 20
        }
      ]
    },
    {
      "cell_type": "code",
      "metadata": {
        "id": "mbpi6QoXKuK0"
      },
      "source": [
        ""
      ],
      "execution_count": null,
      "outputs": []
    }
  ]
}