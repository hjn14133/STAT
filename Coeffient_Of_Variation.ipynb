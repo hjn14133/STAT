{
  "nbformat": 4,
  "nbformat_minor": 0,
  "metadata": {
    "colab": {
      "name": "Coeffient_Of_Variation.ipynb",
      "provenance": [],
      "authorship_tag": "ABX9TyPpQLHGkIjhhEycozVHIdrQ",
      "include_colab_link": true
    },
    "kernelspec": {
      "name": "python3",
      "display_name": "Python 3"
    },
    "language_info": {
      "name": "python"
    }
  },
  "cells": [
    {
      "cell_type": "markdown",
      "metadata": {
        "id": "view-in-github",
        "colab_type": "text"
      },
      "source": [
        "<a href=\"https://colab.research.google.com/github/hjn14133/STAT/blob/main/Coeffient_Of_Variation.ipynb\" target=\"_parent\"><img src=\"https://colab.research.google.com/assets/colab-badge.svg\" alt=\"Open In Colab\"/></a>"
      ]
    },
    {
      "cell_type": "code",
      "metadata": {
        "id": "ojGd8tAbggbv"
      },
      "source": [
        "import pandas as pd\n",
        "import numpy as np"
      ],
      "execution_count": 1,
      "outputs": []
    },
    {
      "cell_type": "code",
      "metadata": {
        "id": "QlCIdQcYgoQR"
      },
      "source": [
        "df = pd.read_csv('FT_join_JH_cleaned.csv')\n",
        "\n",
        "# define function to calculate cv\n",
        "cv = lambda x: np.std(x, ddof=1) / np.mean(x) * 100"
      ],
      "execution_count": 3,
      "outputs": []
    },
    {
      "cell_type": "code",
      "metadata": {
        "id": "SrLIbNvnhMMn"
      },
      "source": [
        "df.head()"
      ],
      "execution_count": null,
      "outputs": []
    },
    {
      "cell_type": "code",
      "metadata": {
        "id": "E_S2S8DbhRH5"
      },
      "source": [
        "fiber = df.iloc[:, 30: 38]"
      ],
      "execution_count": 10,
      "outputs": []
    },
    {
      "cell_type": "code",
      "metadata": {
        "colab": {
          "base_uri": "https://localhost:8080/"
        },
        "id": "1rv7j5NYhl-d",
        "outputId": "e8dee00b-3100-43e6-c153-29ec30414620"
      },
      "source": [
        "fiber.apply(cv)"
      ],
      "execution_count": 11,
      "outputs": [
        {
          "output_type": "execute_result",
          "data": {
            "text/plain": [
              "Lf           5.749508\n",
              "Mic          2.827349\n",
              "Str          2.337990\n",
              "Rd           0.920281\n",
              "b            4.096179\n",
              "Tr          11.219285\n",
              "Unif         0.655313\n",
              "Loan_Rat     0.539109\n",
              "dtype: float64"
            ]
          },
          "metadata": {},
          "execution_count": 11
        }
      ]
    },
    {
      "cell_type": "code",
      "metadata": {
        "id": "ShjOUDsvh-xY"
      },
      "source": [
        "Effects = df[['DISTANCE', 'Heading','VRYIELDBAL', 'Elevation', 'AppliedRat']]"
      ],
      "execution_count": 14,
      "outputs": []
    },
    {
      "cell_type": "code",
      "metadata": {
        "colab": {
          "base_uri": "https://localhost:8080/"
        },
        "id": "Yv0IsWKlkXM8",
        "outputId": "1797adda-ba53-49b6-a1b2-4e15c33d01d0"
      },
      "source": [
        "Effects.apply(cv)"
      ],
      "execution_count": 15,
      "outputs": [
        {
          "output_type": "execute_result",
          "data": {
            "text/plain": [
              "DISTANCE       6.397995\n",
              "Heading       85.306326\n",
              "VRYIELDBAL    38.537700\n",
              "Elevation      1.106576\n",
              "AppliedRat    17.085372\n",
              "dtype: float64"
            ]
          },
          "metadata": {},
          "execution_count": 15
        }
      ]
    },
    {
      "cell_type": "code",
      "metadata": {
        "id": "2CMxDd_mkZlj"
      },
      "source": [
        ""
      ],
      "execution_count": null,
      "outputs": []
    }
  ]
}